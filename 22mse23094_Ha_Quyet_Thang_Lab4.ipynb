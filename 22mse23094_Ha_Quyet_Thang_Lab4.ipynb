{
  "nbformat": 4,
  "nbformat_minor": 0,
  "metadata": {
    "colab": {
      "provenance": []
    },
    "kernelspec": {
      "name": "python3",
      "display_name": "Python 3"
    },
    "language_info": {
      "name": "python"
    }
  },
  "cells": [
    {
      "cell_type": "markdown",
      "source": [
        "SUBJECT: BIG DATA\n",
        "\n",
        "CLASS : MSE12#HCM\n",
        "\n",
        "MSHV : 22MSE23094\n",
        "\n",
        "MSE STUDENT's NAME : HA QUYET THANG\n",
        "\n",
        "INSTRUCTOR: DR. MAI HOANG BAO AN"
      ],
      "metadata": {
        "id": "w-Jo_5VAlqqK"
      }
    },
    {
      "cell_type": "markdown",
      "metadata": {
        "id": "roAyNwmf67Cl"
      },
      "source": [
        "## Exercise 1\n",
        "Write a function to compute the below formualation with the use of map function\n",
        "\\begin{equation}\n",
        "x^2 + y^2 - r^2\n",
        "\\end{equation}\n",
        "\n",
        "then, print out the values of the equation at these below values of $x$, $y$ and $z$\n",
        "```\n",
        "x = [1,2,3,4,5,6]\n",
        "y = [2,3,4,5,6,7]\n",
        "r = [1,1,3,3,4,5]\n",
        "\n",
        "```"
      ]
    },
    {
      "cell_type": "code",
      "source": [
        "def compute_equation(x, y, r):\n",
        "    return x**2 + y**2 - r**2\n",
        "\n",
        "\n",
        "x_values = [1, 2, 3, 4, 5, 6]\n",
        "y_values = [2, 3, 4, 5, 6, 7]\n",
        "r_values = [1, 1, 3, 3, 4, 5]\n",
        "\n",
        "result = list(map(compute_equation, x_values, y_values, r_values))\n",
        "print(result)"
      ],
      "metadata": {
        "id": "de7cbys84ieY",
        "colab": {
          "base_uri": "https://localhost:8080/"
        },
        "outputId": "74d48c5c-40e7-4889-a1db-6125c96c6c12"
      },
      "execution_count": 1,
      "outputs": [
        {
          "output_type": "stream",
          "name": "stdout",
          "text": [
            "[4, 12, 16, 32, 45, 60]\n"
          ]
        }
      ]
    },
    {
      "cell_type": "markdown",
      "metadata": {
        "id": "jbbvCewW-Zib"
      },
      "source": [
        "## Exercise 2\n",
        "\n",
        "Write a function that take input as a list of words and return to a list of integers representing the lengths of the correponding words.\n",
        "\n",
        "Write it in three different ways:\n",
        "1. using a for-loop,\n",
        "2. using function `map()`, and\n",
        "3. using list comprehensions."
      ]
    },
    {
      "cell_type": "code",
      "source": [
        "# 1. using a for-loop,\n",
        "def word_lengths_for_loop(words):\n",
        "    lengths = []\n",
        "    for word in words:\n",
        "        lengths.append(len(word))\n",
        "    return lengths\n",
        "\n",
        "# 2. using function map()\n",
        "def word_lengths_map(words):\n",
        "    return list(map(len, words))\n",
        "\n",
        "# 3. using list comprehensions.\n",
        "def word_lengths_list_comprehension(words):\n",
        "    return [len(word) for word in words]\n",
        "\n",
        "words = ['apple', 'banana', 'orange', 'grape']\n",
        "print(word_lengths_for_loop(words))\n",
        "print(word_lengths_map(words))\n",
        "print(word_lengths_list_comprehension(words))"
      ],
      "metadata": {
        "colab": {
          "base_uri": "https://localhost:8080/"
        },
        "id": "zhjNHHdU48up",
        "outputId": "c7a12769-26c8-4b3a-89d9-a5a7c0df9fdf"
      },
      "execution_count": 2,
      "outputs": [
        {
          "output_type": "stream",
          "name": "stdout",
          "text": [
            "[5, 6, 6, 5]\n",
            "[5, 6, 6, 5]\n",
            "[5, 6, 6, 5]\n"
          ]
        }
      ]
    },
    {
      "cell_type": "markdown",
      "metadata": {
        "id": "wJwBpx3CB6Mz"
      },
      "source": [
        "## Exercise 3\n",
        "\n",
        "Implement a program to make a list whose elements are double string of a string `re` (i.e., `rere`), where `re` is the first two characters of approriate elements in this list:\n",
        "\n",
        "`['real', 'rock', 'realize', 'rocket', 'red', 'eraser' , '7', 8 , 9, 10]`."
      ]
    },
    {
      "cell_type": "code",
      "source": [
        "def double_strings(lst):\n",
        "\n",
        "    def repeat_first_two_chars(item):\n",
        "        if isinstance(item, str) and len(item) >= 2:\n",
        "            return item[:2] * 2\n",
        "        else:\n",
        "            return None\n",
        "\n",
        "    filtered_list = list(map(repeat_first_two_chars, lst))\n",
        "    return [item for item in filtered_list if item is not None]\n",
        "\n",
        "original_list = ['real', 'rock', 'realize', 'rocket', 'red', 'eraser', '7', 8, 9, 10]\n",
        "result_list = double_strings(original_list)\n",
        "print(result_list)"
      ],
      "metadata": {
        "id": "TvyLK6aekEq6",
        "colab": {
          "base_uri": "https://localhost:8080/"
        },
        "outputId": "a0feb2af-b2a3-4c1a-b8a8-9c8c980b1d21"
      },
      "execution_count": 3,
      "outputs": [
        {
          "output_type": "stream",
          "name": "stdout",
          "text": [
            "['rere', 'roro', 'rere', 'roro', 'rere', 'erer']\n"
          ]
        }
      ]
    },
    {
      "cell_type": "markdown",
      "metadata": {
        "id": "FmUuMocREUy4"
      },
      "source": [
        "## Exercise 4\n",
        "\n",
        "Write a function `max_in_list()` that takes a list of numbers and returns the largest one using `reduce()` in lib `functools`"
      ]
    },
    {
      "cell_type": "code",
      "source": [
        "import functools as ft\n",
        "\n",
        "\n",
        "def max_in_list(arr):\n",
        "  return ft.reduce(lambda a, b: a if a > b else b, arr)\n",
        "\n",
        "arr = [1, 2, 3, 4, 5, 6, 7, 8, 9, 10]\n",
        "print('The largest number is: ', max_in_list(arr))"
      ],
      "metadata": {
        "colab": {
          "base_uri": "https://localhost:8080/"
        },
        "id": "IJLvv_Mv5VMw",
        "outputId": "983446c9-e5a3-4a4e-a38d-76c0fcfa56c6"
      },
      "execution_count": 4,
      "outputs": [
        {
          "output_type": "stream",
          "name": "stdout",
          "text": [
            "The largest number is:  10\n"
          ]
        }
      ]
    },
    {
      "cell_type": "markdown",
      "source": [
        "## Exercise 5\n",
        "\n",
        "Using Python `map` to write a Python program to triple all numbers of a given list of integers."
      ],
      "metadata": {
        "id": "HH2WAgksg9wM"
      }
    },
    {
      "cell_type": "code",
      "source": [
        "a = [1, 2, 3, 4, 5]\n",
        "\n",
        "def triple_arr(arr):\n",
        "  return arr * 3\n",
        "\n",
        "print(\"Original list:\", a)\n",
        "print(\"List with tripled numbers:\", list(map(triple_arr, a)))\n"
      ],
      "metadata": {
        "colab": {
          "base_uri": "https://localhost:8080/"
        },
        "id": "OMuOV74y5jkR",
        "outputId": "49ec37de-a049-41ab-db53-83ba2d6ae5d0"
      },
      "execution_count": 5,
      "outputs": [
        {
          "output_type": "stream",
          "name": "stdout",
          "text": [
            "Original list: [1, 2, 3, 4, 5]\n",
            "List with tripled numbers: [3, 6, 9, 12, 15]\n"
          ]
        }
      ]
    },
    {
      "cell_type": "markdown",
      "source": [
        "## Exercise 6\n",
        "Implement parallel processing using `map()` to apply a function across multiple elements of an iterable concurrently, and then use `reduce()` to aggregate the results."
      ],
      "metadata": {
        "id": "xv0H5iw_5_mm"
      }
    },
    {
      "cell_type": "code",
      "source": [
        "import concurrent.futures\n",
        "from functools import reduce\n",
        "\n",
        "# Example data\n",
        "data = [1, 2, 3, 4, 5]\n",
        "\n",
        "# Number of concurrent workers\n",
        "num_workers = 3\n",
        "\n",
        "# Function to be applied concurrently using map\n",
        "def process_data_parallel(data_chunk):\n",
        "    with concurrent.futures.ThreadPoolExecutor(max_workers=num_workers) as executor:\n",
        "        return list(executor.map(lambda x: x * x, data_chunk))\n",
        "\n",
        "# Apply the function concurrently using map\n",
        "results = list(map(process_data_parallel, [data]))\n",
        "\n",
        "# Flatten the results\n",
        "flattened_results = reduce(lambda x, y: x + y, results)\n",
        "\n",
        "print(\"Original data:\", data)\n",
        "print(\"Squared data (processed concurrently and aggregated):\", flattened_results)"
      ],
      "metadata": {
        "id": "4FUQmmUylEbl",
        "colab": {
          "base_uri": "https://localhost:8080/"
        },
        "outputId": "426e2e84-55ef-4c52-de9d-17a4c8660d24"
      },
      "execution_count": 6,
      "outputs": [
        {
          "output_type": "stream",
          "name": "stdout",
          "text": [
            "Original data: [1, 2, 3, 4, 5]\n",
            "Squared data (processed concurrently and aggregated): [1, 4, 9, 16, 25]\n"
          ]
        }
      ]
    },
    {
      "cell_type": "markdown",
      "source": [
        "## Exercise 7\n",
        "Implement a MapReduce-style function to process data distributed across multiple nodes or workers."
      ],
      "metadata": {
        "id": "IF_ouBU-6IYz"
      }
    },
    {
      "cell_type": "code",
      "source": [
        "from concurrent.futures import ThreadPoolExecutor\n",
        "from collections import defaultdict\n",
        "\n",
        "map_func = lambda data: [(word, 1) for word in data.split()]\n",
        "reduce_func = lambda pair: (pair[0], sum(pair[1]))\n",
        "\n",
        "def map_reduce(data, num_workers=4):\n",
        "    with ThreadPoolExecutor(max_workers=num_workers) as executor:\n",
        "        mapped_data = sum(executor.map(map_func, data), [])\n",
        "\n",
        "    reduced_data = defaultdict(list)\n",
        "    for key, value in mapped_data:\n",
        "        reduced_data[key].append(value)\n",
        "\n",
        "    result = list(map(reduce_func, reduced_data.items()))\n",
        "    return result\n",
        "\n",
        "if __name__ == '__main__':\n",
        "    new_data = [\"python is powerful\", \"programming with python is fun\", \"python is versatile\"]\n",
        "    result = map_reduce(new_data)\n",
        "    print(result)"
      ],
      "metadata": {
        "id": "C9oaW2et6XV5",
        "colab": {
          "base_uri": "https://localhost:8080/"
        },
        "outputId": "4a83e08a-4197-4c48-e602-03afd3e37311"
      },
      "execution_count": 7,
      "outputs": [
        {
          "output_type": "stream",
          "name": "stdout",
          "text": [
            "[('python', 3), ('is', 3), ('powerful', 1), ('programming', 1), ('with', 1), ('fun', 1), ('versatile', 1)]\n"
          ]
        }
      ]
    }
  ]
}